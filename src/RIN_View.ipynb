{
 "cells": [
  {
   "cell_type": "markdown",
   "id": "3361b93e-72c7-46c1-9427-b454d6570468",
   "metadata": {
    "tags": []
   },
   "source": [
    "## Readme\n",
    "\n",
    "The code for the widget is in `RIN_Widget.ipynb`, which is automatically called by executing the cell below. Note that fonts and arrangement of widget descriptions will look slightly different then in the paper. Also the This is due readability for the figures in the document. Also the actual browser plays a role here. In `RIN_Benchmarks.ipynb` you can find the benchmarks, which were done for paper. Note that your results may differ since client specs play a role for some numbers. After running the benchmarks, which takes ~1h, pdf-files with the figures are created in this folder. This and the benchmark notebook both call directly the `RIN_Widget.ipynb` notebook, therefore there is no need to execute it manually.\n",
    "\n",
    "This container is based on: \n",
    "\n",
    "#### PARAMETERS\n",
    "- pdbFile: A valid protein-file.\n",
    "- trajFile: A trajectory-file matching the protein. (Optional, Default: None)\n",
    "- width: Total width of the rendered widget. (Optional, Default: 2000px)\n",
    "- customColorScale: A color scale. (Optional, Default: plotly.express.colors.sequential.Plasma)\n",
    "\n",
    "#### Proteins\n",
    "You can choose out of three pre-uploaded proteins:\n",
    "1. A3D (pdbFile: A3D-0-protein.pdb, trajFile: A3D-0-protein-000.dcd)\n",
    "2. 2JOF (pdbFile: 2JOF-0-protein.pdb, trajFile: 2JOF-0-protein-000.dcd)\n",
    "3. NTL9 (pdbFile: NTL9-0-protein.pdb, trajFile: NTL9-0-protein-000.dcd)\n",
    "\n",
    "Other proteins with pdb/dcd combinations are also supported. Just upload them to the container in the current folder."
   ]
  },
  {
   "cell_type": "code",
   "execution_count": null,
   "id": "511e3504-98a7-45ca-a1fb-3c60d899168d",
   "metadata": {},
   "outputs": [],
   "source": [
    "%run ./RIN_Widget.ipynb\n",
    "\n",
    "# Due to some precalculation, initializing the widget takes 5-10 seconds for typical proteins.\n",
    "fig_A3D = NetworKitGraphWidget('A3D-0-protein.pdb', trajFile = 'A3D-0-protein-000.dcd', width = 1500)\n",
    "fig_A3D"
   ]
  }
 ],
 "metadata": {
  "kernelspec": {
   "display_name": "Python 3 (ipykernel)",
   "language": "python",
   "name": "python3"
  },
  "language_info": {
   "codemirror_mode": {
    "name": "ipython",
    "version": 3
   },
   "file_extension": ".py",
   "mimetype": "text/x-python",
   "name": "python",
   "nbconvert_exporter": "python",
   "pygments_lexer": "ipython3",
   "version": "3.9.7"
  }
 },
 "nbformat": 4,
 "nbformat_minor": 5
}
